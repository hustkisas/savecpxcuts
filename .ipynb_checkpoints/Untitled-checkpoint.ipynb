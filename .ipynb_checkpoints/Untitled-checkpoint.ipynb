{
 "cells": [
  {
   "cell_type": "code",
   "execution_count": 18,
   "metadata": {},
   "outputs": [
    {
     "name": "stderr",
     "output_type": "stream",
     "text": [
      "\u001b[32m\u001b[1m  Resolving\u001b[22m\u001b[39m package versions...\n",
      "\u001b[32m\u001b[1mNo Changes\u001b[22m\u001b[39m to `~/.julia/environments/v1.5/Project.toml`\n",
      "\u001b[32m\u001b[1mNo Changes\u001b[22m\u001b[39m to `~/.julia/environments/v1.5/Manifest.toml`\n"
     ]
    },
    {
     "data": {
      "text/plain": [
       "97574291"
      ]
     },
     "execution_count": 18,
     "metadata": {},
     "output_type": "execute_result"
    }
   ],
   "source": [
    "import Pkg; Pkg.add(\"GZip\")\n",
    "#using CodecZlib\n",
    "#open(GzipDecompressorStream, \"./Data/case1888rte/2017-01-01.1.final.mps.gz\", \"r\") do src\n",
    "#    open(\"decompressed.mps\", \"w\") do sink\n",
    "#        write(sink, src)\n",
    "#    end\n",
    "#end\n"
   ]
  },
  {
   "cell_type": "code",
   "execution_count": 19,
   "metadata": {},
   "outputs": [
    {
     "ename": "LoadError",
     "evalue": "UndefVarError: lp not defined",
     "output_type": "error",
     "traceback": [
      "UndefVarError: lp not defined",
      "",
      "Stacktrace:",
      " [1] top-level scope at In[19]:4",
      " [2] include_string(::Function, ::Module, ::String, ::String) at ./loading.jl:1091"
     ]
    }
   ],
   "source": [
    "using CPLEXW\n",
    "status_p = [Cint(0)]\n",
    "env = CPXopenCPLEX(status_p)\n",
    "lp = CPXcreateprob(env, status_p, \"problem\")\n",
    "CPXreadcopyprob(env, lp, \"./Data/case1888rte/2017-01-01.1.final.mps.gz\", C_NULL)"
   ]
  },
  {
   "cell_type": "code",
   "execution_count": null,
   "metadata": {},
   "outputs": [],
   "source": [
    "CPXreadcopyprob(env, lp, string(input_file_path, inputfiles[i]), \"mps\")"
   ]
  }
 ],
 "metadata": {
  "kernelspec": {
   "display_name": "Julia 1.5.3",
   "language": "julia",
   "name": "julia-1.5"
  },
  "language_info": {
   "file_extension": ".jl",
   "mimetype": "application/julia",
   "name": "julia",
   "version": "1.5.3"
  }
 },
 "nbformat": 4,
 "nbformat_minor": 2
}
