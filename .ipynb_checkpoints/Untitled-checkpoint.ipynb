{
 "cells": [
  {
   "attachments": {},
   "cell_type": "markdown",
   "metadata": {},
   "source": [
    "# Implied Bound Cuts\n",
    "\n",
    "Two-variable cuts has 0 or 1 rhs; cuts with more than two variables always have a zero rhs.\n",
    "## two-variable cuts - 0 rhs\n",
    "\\\\[ -x_{gen130,1} + 0.0750187546886722 p_{gen130,1,1} \\le 0 \\\\]\n",
    "\\\\[   p_{gen130,1,1} \\le 13.33 x_{gen130,1} \\\\]\n",
    "13.33 is the upper bound for \\\\(p_{gen130,1,1}\\\\) in the original constraints\n",
    "\n",
    "## two-variable cuts - 1 rhs\n",
    "\n",
    "\\\\[y_{gen197,17} + 0.107181136120043 p_{gen197,2,16}\\le 1\\\\]\n",
    "\\\\[  p_{gen197,2,16}\\le 9.33(1-y_{gen197,17}) \\\\]\n",
    "9.33 is the uppder bound of \\\\(p_{gen197,2,16}\\\\)\n",
    "\n",
    "## three-variable cuts\n",
    "\\\\[0.0714285714285714 p_{gen139,1,3} - y_{gen139,3} - x_{gen139,2}\\le 0\\\\]\n",
    "\\\\[ p_{gen139,1,3} \\le 14 (y_{gen139,3} + x_{gen139,2})\\\\]\n",
    "15 is the upper bound of \\\\(p_{gen139,1,3}\\\\)\n",
    "\n",
    "\\\\[-y_{gen143,2} - x_{gen143,1} + 0.0154392465647676 p_{gen143,1,2}\\le 0\\\\]\n",
    "\\\\[  p_{gen143,1,2}\\le 64.77 (y_{gen143,2} + x_{gen143,1})\\\\]\n",
    "64.77 is the upper bound of \\\\(p_{gen143,1,2}\\\\)\n",
    "\n",
    "\\\\[-x_{gen38,10} + 0.625 p_{gen38,1,11} - y_{gen38,11} \\le 0\\\\]\n",
    "\\\\[ p_{gen38,1,11}  \\le 1.6(x_{gen38,10} + y_{gen38,11})\\\\]\n",
    "1.6 is the upper bound of \\\\(p_{gen38,1,11}\\\\)\n",
    "\n",
    "## four-variable cuts\n",
    "\n",
    "\\\\[-y_{gen147,19} - x_{gen147,17} + 0.00434782608695652 p_{gen147,2,19} - y_{gen147,18}\\le 0 \\\\]\n",
    "\\\\[  p_{gen147,2,19} \\le 230(y_{gen147,19} + x_{gen147,17} + y_{gen147,18}) \\\\]\n",
    "\n",
    "230 is the upper bound of \\\\(p_{gen147,2,19}\\\\)\n",
    "\n",
    "\\\\[0.00422529260151266 p_{gen169,1,10} - y_{gen169,11} - y_{gen169,10} - x_{gen169,9} \\le 0 \\\\]\n",
    "\\\\[ p_{gen169,1,10} \\le 236.67( y_{gen169,11} + y_{gen169,10} + x_{gen169,9} ) \\\\]\n",
    "236.67 is the upper bound of \\\\(p_{gen169,1,10}\\\\)\n",
    "\n",
    "\n",
    "## six-variable cuts\n",
    "\\\\[-y_{gen32,19} - y_{gen32,21} - x_{gen32,17} + 0.178571428571429 p_{gen32,2,18} - y_{gen32,18} - y_{gen32,20}\\le 0\\\\]\n",
    "\\\\[ p_{gen32,2,18} \\le 5.6(x_{gen32,17} +  y_{gen32,18} + y_{gen32,19} + y_{gen32,20}+ y_{gen32,21} )\\\\]\n",
    "5.6 is the upper bound of \\\\(p_{gen32,2,18}\\\\)\n",
    "\n",
    "\\\\[-y_{gen290,14} - y_{gen290,11} - x_{gen290,10} + 0.0265463233342182 p_{gen290,2,11} - y_{gen290,12} - y_{gen290,13}\\le 0\\\\]\n",
    "\\\\[  p_{gen290,2,11} \\le 37.67(x_{gen290,10}  + y_{gen290,11} +  y_{gen290,12} + y_{gen290,13}+ y_{gen290,14})\\\\]\n",
    "37.67 is the upper bound of \\\\(p_{gen290,2,11}\\\\)\n",
    "\n",
    "\n",
    "# MIR Cuts\n",
    "## three-variable cuts\n",
    "\\\\[-0.0303203117574441 x_{gen112,2} - x_{gen112,1} + 0.00095047999239616 p_{112,1}\\le 0\\\\]\n",
    "\\\\[-31.9 x_{gen112,2} - 1052.1x_{gen112,1} + p_{112,1}\\le 0\\\\]"
   ]
  },
  {
   "cell_type": "code",
   "execution_count": null,
   "metadata": {},
   "outputs": [],
   "source": []
  }
 ],
 "metadata": {
  "kernelspec": {
   "display_name": "Python 3",
   "language": "python",
   "name": "python3"
  },
  "language_info": {
   "codemirror_mode": {
    "name": "ipython",
    "version": 3
   },
   "file_extension": ".py",
   "mimetype": "text/x-python",
   "name": "python",
   "nbconvert_exporter": "python",
   "pygments_lexer": "ipython3",
   "version": "3.7.4"
  }
 },
 "nbformat": 4,
 "nbformat_minor": 2
}
