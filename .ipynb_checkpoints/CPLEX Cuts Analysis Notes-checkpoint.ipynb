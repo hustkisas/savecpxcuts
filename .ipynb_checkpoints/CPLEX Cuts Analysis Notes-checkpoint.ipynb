{
 "cells": [
  {
   "cell_type": "markdown",
   "metadata": {},
   "source": [
    "## CPLEX Cuts Analysis \n",
    "### Reserach questions\n",
    "### How frequent a cut appear in mutiple instances? \n",
    "We assume that, CPLEX keeps useful cuts at the end of root node solving. If each instance has a distinct set of cuts at the end, then it might not be that beneficial to reuse the cuts in a new instance. We hope to find sets of cuts are used for a certain group of instances. If this is true, we could proceed to predict the set of cuts that will be useful in a new instance. \n",
    "### How many of them are valid across all instances? \n",
    "Can we identify a set of cuts that are always valid for all instances from the same systems? Note that, being valid doesn't mean being useful. "
   ]
  }
 ],
 "metadata": {
  "kernelspec": {
   "display_name": "Python 3",
   "language": "python",
   "name": "python3"
  },
  "language_info": {
   "codemirror_mode": {
    "name": "ipython",
    "version": 3
   },
   "file_extension": ".py",
   "mimetype": "text/x-python",
   "name": "python",
   "nbconvert_exporter": "python",
   "pygments_lexer": "ipython3",
   "version": "3.7.4"
  }
 },
 "nbformat": 4,
 "nbformat_minor": 2
}
